{
  "nbformat": 4,
  "nbformat_minor": 0,
  "metadata": {
    "colab": {
      "provenance": []
    },
    "kernelspec": {
      "name": "python3",
      "display_name": "Python 3"
    },
    "language_info": {
      "name": "python"
    }
  },
  "cells": [
    {
      "cell_type": "markdown",
      "source": [
        "**Rishabh Chandrakar**\n",
        "\n",
        " Data Analytics\n",
        "www.linkedin.com/in/rishabh-chandrakar\n",
        "\n",
        "https://github.com/Rishabh1108ch\n",
        "\n",
        "8963976273"
      ],
      "metadata": {
        "id": "FRm682_R5-FK"
      }
    },
    {
      "cell_type": "code",
      "execution_count": 32,
      "metadata": {
        "colab": {
          "base_uri": "https://localhost:8080/",
          "height": 206
        },
        "id": "eVUozOUPmMJm",
        "outputId": "27aed772-111e-4bca-c1a6-36c1ab941fe1"
      },
      "outputs": [
        {
          "output_type": "display_data",
          "data": {
            "text/plain": [
              "      Dates  Prices   Dates_dt\n",
              "0  10/31/20    10.1 2020-10-31\n",
              "1  11/30/20    10.3 2020-11-30\n",
              "2  12/31/20    11.0 2020-12-31\n",
              "3   1/31/21    10.9 2021-01-31\n",
              "4   2/28/21    10.9 2021-02-28"
            ],
            "text/html": [
              "\n",
              "  <div id=\"df-f549f462-221d-43a6-bf03-e67cfd6dc969\" class=\"colab-df-container\">\n",
              "    <div>\n",
              "<style scoped>\n",
              "    .dataframe tbody tr th:only-of-type {\n",
              "        vertical-align: middle;\n",
              "    }\n",
              "\n",
              "    .dataframe tbody tr th {\n",
              "        vertical-align: top;\n",
              "    }\n",
              "\n",
              "    .dataframe thead th {\n",
              "        text-align: right;\n",
              "    }\n",
              "</style>\n",
              "<table border=\"1\" class=\"dataframe\">\n",
              "  <thead>\n",
              "    <tr style=\"text-align: right;\">\n",
              "      <th></th>\n",
              "      <th>Dates</th>\n",
              "      <th>Prices</th>\n",
              "      <th>Dates_dt</th>\n",
              "    </tr>\n",
              "  </thead>\n",
              "  <tbody>\n",
              "    <tr>\n",
              "      <th>0</th>\n",
              "      <td>10/31/20</td>\n",
              "      <td>10.1</td>\n",
              "      <td>2020-10-31</td>\n",
              "    </tr>\n",
              "    <tr>\n",
              "      <th>1</th>\n",
              "      <td>11/30/20</td>\n",
              "      <td>10.3</td>\n",
              "      <td>2020-11-30</td>\n",
              "    </tr>\n",
              "    <tr>\n",
              "      <th>2</th>\n",
              "      <td>12/31/20</td>\n",
              "      <td>11.0</td>\n",
              "      <td>2020-12-31</td>\n",
              "    </tr>\n",
              "    <tr>\n",
              "      <th>3</th>\n",
              "      <td>1/31/21</td>\n",
              "      <td>10.9</td>\n",
              "      <td>2021-01-31</td>\n",
              "    </tr>\n",
              "    <tr>\n",
              "      <th>4</th>\n",
              "      <td>2/28/21</td>\n",
              "      <td>10.9</td>\n",
              "      <td>2021-02-28</td>\n",
              "    </tr>\n",
              "  </tbody>\n",
              "</table>\n",
              "</div>\n",
              "    <div class=\"colab-df-buttons\">\n",
              "\n",
              "  <div class=\"colab-df-container\">\n",
              "    <button class=\"colab-df-convert\" onclick=\"convertToInteractive('df-f549f462-221d-43a6-bf03-e67cfd6dc969')\"\n",
              "            title=\"Convert this dataframe to an interactive table.\"\n",
              "            style=\"display:none;\">\n",
              "\n",
              "  <svg xmlns=\"http://www.w3.org/2000/svg\" height=\"24px\" viewBox=\"0 -960 960 960\">\n",
              "    <path d=\"M120-120v-720h720v720H120Zm60-500h600v-160H180v160Zm220 220h160v-160H400v160Zm0 220h160v-160H400v160ZM180-400h160v-160H180v160Zm440 0h160v-160H620v160ZM180-180h160v-160H180v160Zm440 0h160v-160H620v160Z\"/>\n",
              "  </svg>\n",
              "    </button>\n",
              "\n",
              "  <style>\n",
              "    .colab-df-container {\n",
              "      display:flex;\n",
              "      gap: 12px;\n",
              "    }\n",
              "\n",
              "    .colab-df-convert {\n",
              "      background-color: #E8F0FE;\n",
              "      border: none;\n",
              "      border-radius: 50%;\n",
              "      cursor: pointer;\n",
              "      display: none;\n",
              "      fill: #1967D2;\n",
              "      height: 32px;\n",
              "      padding: 0 0 0 0;\n",
              "      width: 32px;\n",
              "    }\n",
              "\n",
              "    .colab-df-convert:hover {\n",
              "      background-color: #E2EBFA;\n",
              "      box-shadow: 0px 1px 2px rgba(60, 64, 67, 0.3), 0px 1px 3px 1px rgba(60, 64, 67, 0.15);\n",
              "      fill: #174EA6;\n",
              "    }\n",
              "\n",
              "    .colab-df-buttons div {\n",
              "      margin-bottom: 4px;\n",
              "    }\n",
              "\n",
              "    [theme=dark] .colab-df-convert {\n",
              "      background-color: #3B4455;\n",
              "      fill: #D2E3FC;\n",
              "    }\n",
              "\n",
              "    [theme=dark] .colab-df-convert:hover {\n",
              "      background-color: #434B5C;\n",
              "      box-shadow: 0px 1px 3px 1px rgba(0, 0, 0, 0.15);\n",
              "      filter: drop-shadow(0px 1px 2px rgba(0, 0, 0, 0.3));\n",
              "      fill: #FFFFFF;\n",
              "    }\n",
              "  </style>\n",
              "\n",
              "    <script>\n",
              "      const buttonEl =\n",
              "        document.querySelector('#df-f549f462-221d-43a6-bf03-e67cfd6dc969 button.colab-df-convert');\n",
              "      buttonEl.style.display =\n",
              "        google.colab.kernel.accessAllowed ? 'block' : 'none';\n",
              "\n",
              "      async function convertToInteractive(key) {\n",
              "        const element = document.querySelector('#df-f549f462-221d-43a6-bf03-e67cfd6dc969');\n",
              "        const dataTable =\n",
              "          await google.colab.kernel.invokeFunction('convertToInteractive',\n",
              "                                                    [key], {});\n",
              "        if (!dataTable) return;\n",
              "\n",
              "        const docLinkHtml = 'Like what you see? Visit the ' +\n",
              "          '<a target=\"_blank\" href=https://colab.research.google.com/notebooks/data_table.ipynb>data table notebook</a>'\n",
              "          + ' to learn more about interactive tables.';\n",
              "        element.innerHTML = '';\n",
              "        dataTable['output_type'] = 'display_data';\n",
              "        await google.colab.output.renderOutput(dataTable, element);\n",
              "        const docLink = document.createElement('div');\n",
              "        docLink.innerHTML = docLinkHtml;\n",
              "        element.appendChild(docLink);\n",
              "      }\n",
              "    </script>\n",
              "  </div>\n",
              "\n",
              "\n",
              "    <div id=\"df-28d31b6d-f60c-4db9-a328-e5fbf8144a1c\">\n",
              "      <button class=\"colab-df-quickchart\" onclick=\"quickchart('df-28d31b6d-f60c-4db9-a328-e5fbf8144a1c')\"\n",
              "                title=\"Suggest charts\"\n",
              "                style=\"display:none;\">\n",
              "\n",
              "<svg xmlns=\"http://www.w3.org/2000/svg\" height=\"24px\"viewBox=\"0 0 24 24\"\n",
              "     width=\"24px\">\n",
              "    <g>\n",
              "        <path d=\"M19 3H5c-1.1 0-2 .9-2 2v14c0 1.1.9 2 2 2h14c1.1 0 2-.9 2-2V5c0-1.1-.9-2-2-2zM9 17H7v-7h2v7zm4 0h-2V7h2v10zm4 0h-2v-4h2v4z\"/>\n",
              "    </g>\n",
              "</svg>\n",
              "      </button>\n",
              "\n",
              "<style>\n",
              "  .colab-df-quickchart {\n",
              "      --bg-color: #E8F0FE;\n",
              "      --fill-color: #1967D2;\n",
              "      --hover-bg-color: #E2EBFA;\n",
              "      --hover-fill-color: #174EA6;\n",
              "      --disabled-fill-color: #AAA;\n",
              "      --disabled-bg-color: #DDD;\n",
              "  }\n",
              "\n",
              "  [theme=dark] .colab-df-quickchart {\n",
              "      --bg-color: #3B4455;\n",
              "      --fill-color: #D2E3FC;\n",
              "      --hover-bg-color: #434B5C;\n",
              "      --hover-fill-color: #FFFFFF;\n",
              "      --disabled-bg-color: #3B4455;\n",
              "      --disabled-fill-color: #666;\n",
              "  }\n",
              "\n",
              "  .colab-df-quickchart {\n",
              "    background-color: var(--bg-color);\n",
              "    border: none;\n",
              "    border-radius: 50%;\n",
              "    cursor: pointer;\n",
              "    display: none;\n",
              "    fill: var(--fill-color);\n",
              "    height: 32px;\n",
              "    padding: 0;\n",
              "    width: 32px;\n",
              "  }\n",
              "\n",
              "  .colab-df-quickchart:hover {\n",
              "    background-color: var(--hover-bg-color);\n",
              "    box-shadow: 0 1px 2px rgba(60, 64, 67, 0.3), 0 1px 3px 1px rgba(60, 64, 67, 0.15);\n",
              "    fill: var(--button-hover-fill-color);\n",
              "  }\n",
              "\n",
              "  .colab-df-quickchart-complete:disabled,\n",
              "  .colab-df-quickchart-complete:disabled:hover {\n",
              "    background-color: var(--disabled-bg-color);\n",
              "    fill: var(--disabled-fill-color);\n",
              "    box-shadow: none;\n",
              "  }\n",
              "\n",
              "  .colab-df-spinner {\n",
              "    border: 2px solid var(--fill-color);\n",
              "    border-color: transparent;\n",
              "    border-bottom-color: var(--fill-color);\n",
              "    animation:\n",
              "      spin 1s steps(1) infinite;\n",
              "  }\n",
              "\n",
              "  @keyframes spin {\n",
              "    0% {\n",
              "      border-color: transparent;\n",
              "      border-bottom-color: var(--fill-color);\n",
              "      border-left-color: var(--fill-color);\n",
              "    }\n",
              "    20% {\n",
              "      border-color: transparent;\n",
              "      border-left-color: var(--fill-color);\n",
              "      border-top-color: var(--fill-color);\n",
              "    }\n",
              "    30% {\n",
              "      border-color: transparent;\n",
              "      border-left-color: var(--fill-color);\n",
              "      border-top-color: var(--fill-color);\n",
              "      border-right-color: var(--fill-color);\n",
              "    }\n",
              "    40% {\n",
              "      border-color: transparent;\n",
              "      border-right-color: var(--fill-color);\n",
              "      border-top-color: var(--fill-color);\n",
              "    }\n",
              "    60% {\n",
              "      border-color: transparent;\n",
              "      border-right-color: var(--fill-color);\n",
              "    }\n",
              "    80% {\n",
              "      border-color: transparent;\n",
              "      border-right-color: var(--fill-color);\n",
              "      border-bottom-color: var(--fill-color);\n",
              "    }\n",
              "    90% {\n",
              "      border-color: transparent;\n",
              "      border-bottom-color: var(--fill-color);\n",
              "    }\n",
              "  }\n",
              "</style>\n",
              "\n",
              "      <script>\n",
              "        async function quickchart(key) {\n",
              "          const quickchartButtonEl =\n",
              "            document.querySelector('#' + key + ' button');\n",
              "          quickchartButtonEl.disabled = true;  // To prevent multiple clicks.\n",
              "          quickchartButtonEl.classList.add('colab-df-spinner');\n",
              "          try {\n",
              "            const charts = await google.colab.kernel.invokeFunction(\n",
              "                'suggestCharts', [key], {});\n",
              "          } catch (error) {\n",
              "            console.error('Error during call to suggestCharts:', error);\n",
              "          }\n",
              "          quickchartButtonEl.classList.remove('colab-df-spinner');\n",
              "          quickchartButtonEl.classList.add('colab-df-quickchart-complete');\n",
              "        }\n",
              "        (() => {\n",
              "          let quickchartButtonEl =\n",
              "            document.querySelector('#df-28d31b6d-f60c-4db9-a328-e5fbf8144a1c button');\n",
              "          quickchartButtonEl.style.display =\n",
              "            google.colab.kernel.accessAllowed ? 'block' : 'none';\n",
              "        })();\n",
              "      </script>\n",
              "    </div>\n",
              "\n",
              "    </div>\n",
              "  </div>\n"
            ],
            "application/vnd.google.colaboratory.intrinsic+json": {
              "type": "dataframe",
              "summary": "{\n  \"name\": \"display(df\",\n  \"rows\": 5,\n  \"fields\": [\n    {\n      \"column\": \"Dates\",\n      \"properties\": {\n        \"dtype\": \"object\",\n        \"num_unique_values\": 5,\n        \"samples\": [\n          \"11/30/20\",\n          \"2/28/21\",\n          \"12/31/20\"\n        ],\n        \"semantic_type\": \"\",\n        \"description\": \"\"\n      }\n    },\n    {\n      \"column\": \"Prices\",\n      \"properties\": {\n        \"dtype\": \"number\",\n        \"std\": 0.40987803063838396,\n        \"min\": 10.1,\n        \"max\": 11.0,\n        \"num_unique_values\": 4,\n        \"samples\": [\n          10.3,\n          10.9,\n          10.1\n        ],\n        \"semantic_type\": \"\",\n        \"description\": \"\"\n      }\n    },\n    {\n      \"column\": \"Dates_dt\",\n      \"properties\": {\n        \"dtype\": \"date\",\n        \"min\": \"2020-10-31 00:00:00\",\n        \"max\": \"2021-02-28 00:00:00\",\n        \"num_unique_values\": 5,\n        \"samples\": [\n          \"2020-11-30 00:00:00\",\n          \"2021-02-28 00:00:00\",\n          \"2020-12-31 00:00:00\"\n        ],\n        \"semantic_type\": \"\",\n        \"description\": \"\"\n      }\n    }\n  ]\n}"
            }
          },
          "metadata": {}
        }
      ],
      "source": [
        "import pandas as pd\n",
        "\n",
        "url = \"https://raw.githubusercontent.com/Rishabh1108ch/JP_Morgan_Quantitative_Research/main/Task2%3A-Price_a_commodity_storage_contract/Nat_Gas_Task_2.csv\"\n",
        "df = pd.read_csv(url)\n",
        "df['Dates_dt'] = pd.to_datetime(df['Dates'], format='%m/%d/%y')\n",
        "display(df.head())"
      ]
    },
    {
      "cell_type": "code",
      "metadata": {
        "colab": {
          "base_uri": "https://localhost:8080/"
        },
        "id": "f1762e7a",
        "outputId": "ad498eed-c9fb-40bd-a1e9-c46f2b04e44d"
      },
      "source": [
        "purchase_date = '2023-10-31'\n",
        "sale_date = '2024-03-31'\n",
        "purchase_price = 11.80\n",
        "sale_price = 12.70\n",
        "storage_capacity = 1000000  # in MMBtu\n",
        "monthly_storage_cost = 0.05 # per MMBtu per month\n",
        "injection_cost = 0.02 # per MMBtu\n",
        "withdrawal_cost = 0.03 # per MMBtu\n",
        "transportation_costs = 0.01 # per MMBtu\n",
        "\n",
        "print(f'Purchase Date: {purchase_date}')\n",
        "print(f'Sale Date: {sale_date}')\n",
        "print(f'Purchase Price: {purchase_price}')\n",
        "print(f'Sale Price: {sale_price}')\n",
        "print(f'Storage Capacity: {storage_capacity} MMBtu')\n",
        "print(f'Monthly Storage Cost: {monthly_storage_cost} $/MMBtu/month')\n",
        "print(f'Injection Cost: {injection_cost} $/MMBtu')\n",
        "print(f'Withdrawal Cost: {withdrawal_cost} $/MMBtu')\n",
        "print(f'Transportation Costs: {transportation_costs} $/MMBtu')"
      ],
      "execution_count": 33,
      "outputs": [
        {
          "output_type": "stream",
          "name": "stdout",
          "text": [
            "Purchase Date: 2023-10-31\n",
            "Sale Date: 2024-03-31\n",
            "Purchase Price: 11.8\n",
            "Sale Price: 12.7\n",
            "Storage Capacity: 1000000 MMBtu\n",
            "Monthly Storage Cost: 0.05 $/MMBtu/month\n",
            "Injection Cost: 0.02 $/MMBtu\n",
            "Withdrawal Cost: 0.03 $/MMBtu\n",
            "Transportation Costs: 0.01 $/MMBtu\n"
          ]
        }
      ]
    },
    {
      "cell_type": "markdown",
      "metadata": {
        "id": "787af548"
      },
      "source": [
        "## Calculate storage duration\n",
        "\n",
        "### Subtask:\n",
        "Determine the number of months the commodity will be stored based on the purchase and sale dates.\n"
      ]
    },
    {
      "cell_type": "code",
      "metadata": {
        "colab": {
          "base_uri": "https://localhost:8080/"
        },
        "id": "c6c8e911",
        "outputId": "41aad272-5a91-4623-a527-e077d22b6eaf"
      },
      "source": [
        "from datetime import datetime\n",
        "\n",
        "purchase_date_dt = datetime.strptime(purchase_date, '%Y-%m-%d')\n",
        "sale_date_dt = datetime.strptime(sale_date, '%Y-%m-%d')\n",
        "\n",
        "storage_duration_days = (sale_date_dt - purchase_date_dt).days\n",
        "storage_duration_months = storage_duration_days / 30.44\n",
        "\n",
        "print(f'Storage duration in days: {storage_duration_days}')\n",
        "print(f'Storage duration in months: {storage_duration_months}')"
      ],
      "execution_count": 34,
      "outputs": [
        {
          "output_type": "stream",
          "name": "stdout",
          "text": [
            "Storage duration in days: 152\n",
            "Storage duration in months: 4.993429697766097\n"
          ]
        }
      ]
    },
    {
      "cell_type": "code",
      "metadata": {
        "colab": {
          "base_uri": "https://localhost:8080/"
        },
        "id": "1ff845be",
        "outputId": "0cfd78c2-e0c0-40cd-a39b-80017dc4da4a"
      },
      "source": [
        "total_storage_cost = monthly_storage_cost * storage_duration_months * storage_capacity\n",
        "print(f'Total Storage Cost: ${total_storage_cost:,.2f}')"
      ],
      "execution_count": 35,
      "outputs": [
        {
          "output_type": "stream",
          "name": "stdout",
          "text": [
            "Total Storage Cost: $249,671.48\n"
          ]
        }
      ]
    },
    {
      "cell_type": "code",
      "metadata": {
        "colab": {
          "base_uri": "https://localhost:8080/"
        },
        "id": "7ad897d9",
        "outputId": "7a3e5bc9-0011-4d13-995b-d7cae5303fa3"
      },
      "source": [
        "total_injection_withdrawal_cost = (injection_cost + withdrawal_cost) * storage_capacity\n",
        "print(f'Total Injection and Withdrawal Cost: ${total_injection_withdrawal_cost:,.2f}')"
      ],
      "execution_count": 36,
      "outputs": [
        {
          "output_type": "stream",
          "name": "stdout",
          "text": [
            "Total Injection and Withdrawal Cost: $50,000.00\n"
          ]
        }
      ]
    },
    {
      "cell_type": "code",
      "metadata": {
        "colab": {
          "base_uri": "https://localhost:8080/"
        },
        "id": "cacdc571",
        "outputId": "97e58c84-7f0a-4641-f83a-8a7d17c5df8e"
      },
      "source": [
        "total_transportation_cost = transportation_costs * storage_capacity\n",
        "print(f'Total Transportation Cost: ${total_transportation_cost:,.2f}')"
      ],
      "execution_count": 37,
      "outputs": [
        {
          "output_type": "stream",
          "name": "stdout",
          "text": [
            "Total Transportation Cost: $10,000.00\n"
          ]
        }
      ]
    },
    {
      "cell_type": "code",
      "metadata": {
        "colab": {
          "base_uri": "https://localhost:8080/"
        },
        "id": "08ebf40e",
        "outputId": "852fc157-90e1-4c6c-e93b-e38ef541ba20"
      },
      "source": [
        "price_difference = sale_price - purchase_price\n",
        "total_revenue = price_difference * storage_capacity\n",
        "total_costs = total_storage_cost + total_injection_withdrawal_cost + total_transportation_cost\n",
        "contract_value = total_revenue - total_costs\n",
        "\n",
        "print(f'Contract Value: ${contract_value:,.2f}')"
      ],
      "execution_count": 38,
      "outputs": [
        {
          "output_type": "stream",
          "name": "stdout",
          "text": [
            "Contract Value: $590,328.52\n"
          ]
        }
      ]
    },
    {
      "cell_type": "code",
      "metadata": {
        "id": "ad1aa6e8"
      },
      "source": [
        "from datetime import datetime\n",
        "\n",
        "def calculate_contract_value(purchase_date, sale_date, purchase_price, sale_price, storage_capacity, monthly_storage_cost, injection_cost, withdrawal_cost, transportation_costs):\n",
        "    \"\"\"Calculates the value of a commodity storage contract.\"\"\"\n",
        "\n",
        "    purchase_date_dt = datetime.strptime(purchase_date, '%Y-%m-%d')\n",
        "    sale_date_dt = datetime.strptime(sale_date, '%Y-%m-%d')\n",
        "\n",
        "    storage_duration_days = (sale_date_dt - purchase_date_dt).days\n",
        "    storage_duration_months = storage_duration_days / 30.44\n",
        "\n",
        "    total_storage_cost = monthly_storage_cost * storage_duration_months * storage_capacity\n",
        "    total_injection_withdrawal_cost = (injection_cost + withdrawal_cost) * storage_capacity\n",
        "    total_transportation_cost = transportation_costs * storage_capacity\n",
        "    total_costs = total_storage_cost + total_injection_withdrawal_cost + total_transportation_cost\n",
        "\n",
        "    total_revenue = (sale_price - purchase_price) * storage_capacity\n",
        "\n",
        "    contract_value = total_revenue - total_costs\n",
        "\n",
        "    return contract_value"
      ],
      "execution_count": 39,
      "outputs": []
    },
    {
      "cell_type": "code",
      "metadata": {
        "colab": {
          "base_uri": "https://localhost:8080/"
        },
        "id": "e6766cde",
        "outputId": "92401126-2f5d-434e-c6f8-f26108530ea8"
      },
      "source": [
        "contract_value = calculate_contract_value(purchase_date, sale_date, purchase_price, sale_price, storage_capacity, monthly_storage_cost, injection_cost, withdrawal_cost, transportation_costs)\n",
        "print(f'Calculated Contract Value using function: ${contract_value:,.2f}')"
      ],
      "execution_count": 40,
      "outputs": [
        {
          "output_type": "stream",
          "name": "stdout",
          "text": [
            "Calculated Contract Value using function: $590,328.52\n"
          ]
        }
      ]
    },
    {
      "cell_type": "markdown",
      "metadata": {
        "id": "3d067343"
      },
      "source": [
        "## Test the model\n",
        "\n",
        "### Subtask:\n",
        "Test the model with example values provided in the background information to ensure it produces the correct results.\n"
      ]
    },
    {
      "cell_type": "code",
      "metadata": {
        "colab": {
          "base_uri": "https://localhost:8080/"
        },
        "id": "937d1e73",
        "outputId": "8559036d-621c-4633-e5a4-4b9e38e03b09"
      },
      "source": [
        "calculated_value = calculate_contract_value(purchase_date, sale_date, purchase_price, sale_price, storage_capacity, monthly_storage_cost, injection_cost, withdrawal_cost, transportation_costs)\n",
        "\n",
        "if abs(calculated_value - contract_value) < 1e-9: # Using a tolerance for floating-point comparison\n",
        "    print(f\"The calculated value ({calculated_value:,.2f}) matches the expected value ({contract_value:,.2f}).\")\n",
        "else:\n",
        "    print(f\"The calculated value ({calculated_value:,.2f}) does not match the expected value ({contract_value:,.2f}).\")\n"
      ],
      "execution_count": 41,
      "outputs": [
        {
          "output_type": "stream",
          "name": "stdout",
          "text": [
            "The calculated value (590,328.52) matches the expected value (590,328.52).\n"
          ]
        }
      ]
    },
    {
      "cell_type": "markdown",
      "metadata": {
        "id": "8d4d8ade"
      },
      "source": [
        "## Summary:\n",
        "\n",
        "### Data Analysis Key Findings\n",
        "\n",
        "*   The total storage cost for the given period and capacity is approximately \\$249,671.48.\n",
        "*   The combined injection and withdrawal costs for the full storage capacity amount to \\$50,000.00.\n",
        "*   The total transportation cost to and from the storage facility is \\$10,000.00.\n",
        "*   Based on the example values provided, the calculated contract value is \\$590,328.52.\n",
        "\n",
        "### Insights or Next Steps\n",
        "\n",
        "*   The developed function provides a foundational model for pricing commodity storage contracts, incorporating key cost and revenue drivers.\n",
        "*   Further development could involve adding functionality to handle variable injection/withdrawal rates over time, incorporate price volatility, and account for potential losses during storage or transportation.\n"
      ]
    },
    {
      "cell_type": "code",
      "source": [],
      "metadata": {
        "id": "ndxczMwGsV12"
      },
      "execution_count": 41,
      "outputs": []
    },
    {
      "cell_type": "markdown",
      "metadata": {
        "id": "6a564ad9"
      },
      "source": [
        "## Test Cases for Pricing Model"
      ]
    },
    {
      "cell_type": "code",
      "metadata": {
        "colab": {
          "base_uri": "https://localhost:8080/"
        },
        "id": "6c11d6f1",
        "outputId": "626c7c23-a428-40fe-9d04-9ffb974e57f1"
      },
      "source": [
        "# Define 5 different test cases\n",
        "test_cases = [\n",
        "    {\n",
        "        'purchase_date': '2023-11-30',\n",
        "        'sale_date': '2024-04-30',\n",
        "        'purchase_price': 12.00,\n",
        "        'sale_price': 13.50,\n",
        "        'storage_capacity': 500000,\n",
        "        'monthly_storage_cost': 0.06,\n",
        "        'injection_cost': 0.025,\n",
        "        'withdrawal_cost': 0.035,\n",
        "        'transportation_costs': 0.015\n",
        "    },\n",
        "    {\n",
        "        'purchase_date': '2024-01-31',\n",
        "        'sale_date': '2024-06-30',\n",
        "        'purchase_price': 12.50,\n",
        "        'sale_price': 13.00,\n",
        "        'storage_capacity': 750000,\n",
        "        'monthly_storage_cost': 0.055,\n",
        "        'injection_cost': 0.02,\n",
        "        'withdrawal_cost': 0.03,\n",
        "        'transportation_costs': 0.01\n",
        "    },\n",
        "    {\n",
        "        'purchase_date': '2023-12-31',\n",
        "        'sale_date': '2024-05-31',\n",
        "        'purchase_price': 13.00,\n",
        "        'sale_price': 14.00,\n",
        "        'storage_capacity': 1000000,\n",
        "        'monthly_storage_cost': 0.05,\n",
        "        'injection_cost': 0.02,\n",
        "        'withdrawal_cost': 0.03,\n",
        "        'transportation_costs': 0.01\n",
        "    },\n",
        "    {\n",
        "        'purchase_date': '2024-02-29',\n",
        "        'sale_date': '2024-07-31',\n",
        "        'purchase_price': 12.20,\n",
        "        'sale_price': 13.80,\n",
        "        'storage_capacity': 600000,\n",
        "        'monthly_storage_cost': 0.065,\n",
        "        'injection_cost': 0.03,\n",
        "        'withdrawal_cost': 0.04,\n",
        "        'transportation_costs': 0.02\n",
        "    },\n",
        "    {\n",
        "        'purchase_date': '2023-10-31',\n",
        "        'sale_date': '2024-03-31',\n",
        "        'purchase_price': 11.80,\n",
        "        'sale_price': 12.70,\n",
        "        'storage_capacity': 1000000,\n",
        "        'monthly_storage_cost': 0.05,\n",
        "        'injection_cost': 0.02,\n",
        "        'withdrawal_cost': 0.03,\n",
        "        'transportation_costs': 0.01\n",
        "    }\n",
        "]\n",
        "\n",
        "# Iterate through test cases and calculate contract value\n",
        "for i, case in enumerate(test_cases):\n",
        "    print(f\"--- Case {i+1} ---\")\n",
        "    contract_value = calculate_contract_value(\n",
        "        case['purchase_date'],\n",
        "        case['sale_date'],\n",
        "        case['purchase_price'],\n",
        "        case['sale_price'],\n",
        "        case['storage_capacity'],\n",
        "        case['monthly_storage_cost'],\n",
        "        case['injection_cost'],\n",
        "        case['withdrawal_cost'],\n",
        "        case['transportation_costs']\n",
        "    )\n",
        "    print(f\"Contract Value: ${contract_value:,.2f}\\n\")"
      ],
      "execution_count": 42,
      "outputs": [
        {
          "output_type": "stream",
          "name": "stdout",
          "text": [
            "--- Case 1 ---\n",
            "Contract Value: $562,697.11\n",
            "\n",
            "--- Case 2 ---\n",
            "Contract Value: $125,376.15\n",
            "\n",
            "--- Case 3 ---\n",
            "Contract Value: $690,328.52\n",
            "\n",
            "--- Case 4 ---\n",
            "Contract Value: $709,975.03\n",
            "\n",
            "--- Case 5 ---\n",
            "Contract Value: $590,328.52\n",
            "\n"
          ]
        }
      ]
    },
    {
      "cell_type": "code",
      "metadata": {
        "colab": {
          "base_uri": "https://localhost:8080/",
          "height": 472
        },
        "id": "12f3f658",
        "outputId": "7bc5e2f3-3791-48a7-b494-36d369975640"
      },
      "source": [
        "import matplotlib.pyplot as plt\n",
        "\n",
        "# Extract contract values from the test cases\n",
        "contract_values = [\n",
        "    calculate_contract_value(\n",
        "        case['purchase_date'],\n",
        "        case['sale_date'],\n",
        "        case['purchase_price'],\n",
        "        case['sale_price'],\n",
        "        case['storage_capacity'],\n",
        "        case['monthly_storage_cost'],\n",
        "        case['injection_cost'],\n",
        "        case['withdrawal_cost'],\n",
        "        case['transportation_costs']\n",
        "    ) for case in test_cases\n",
        "]\n",
        "\n",
        "# Create labels for the x-axis\n",
        "case_labels = [f'Case {i+1}' for i in range(len(test_cases))]\n",
        "\n",
        "# Create the bar plot\n",
        "plt.figure(figsize=(10, 6))\n",
        "plt.bar(case_labels, contract_values)\n",
        "plt.xlabel('Test Case')\n",
        "plt.ylabel('Contract Value ($)')\n",
        "plt.title('Contract Value for Each Test Case')\n",
        "plt.grid(axis='y')\n",
        "plt.show()"
      ],
      "execution_count": 43,
      "outputs": [
        {
          "output_type": "display_data",
          "data": {
            "text/plain": [
              "<Figure size 1000x600 with 1 Axes>"
            ],
            "image/png": "[encoded data removed]"
          },
          "metadata": {}
        }
      ]
    },
    {
      "cell_type": "code",
      "source": [],
      "metadata": {
        "id": "Z_BvhnUuwmR3"
      },
      "execution_count": 43,
      "outputs": []
    },
    {
      "cell_type": "markdown",
      "source": [
        "**Seasonal Analysis**"
      ],
      "metadata": {
        "id": "winPs7z90jPz"
      }
    },
    {
      "cell_type": "code",
      "source": [],
      "metadata": {
        "id": "TEmYCfLMxe-9"
      },
      "execution_count": 43,
      "outputs": []
    },
    {
      "cell_type": "code",
      "metadata": {
        "colab": {
          "base_uri": "https://localhost:8080/"
        },
        "id": "87f1e284",
        "outputId": "98b8bb2a-12cf-4ee6-8b35-3d9e47c03067"
      },
      "source": [
        "from datetime import timedelta\n",
        "\n",
        "# Define 5 new test cases with seasonal purchase dates\n",
        "seasonal_test_cases = [\n",
        "    {'purchase_date': '2021-01-31'}, # Winter\n",
        "    {'purchase_date': '2021-04-30'}, # Spring\n",
        "    {'purchase_date': '2021-07-31'}, # Summer\n",
        "    {'purchase_date': '2021-10-31'}, # Fall\n",
        "    {'purchase_date': '2022-01-31'}  # Winter\n",
        "]\n",
        "\n",
        "# Define constant parameters (using values from the original example)\n",
        "constant_params = {\n",
        "    'storage_capacity': storage_capacity,\n",
        "    'monthly_storage_cost': monthly_storage_cost,\n",
        "    'injection_cost': injection_cost,\n",
        "    'withdrawal_cost': withdrawal_cost,\n",
        "    'transportation_costs': transportation_costs\n",
        "}\n",
        "\n",
        "# Determine sale dates and fetch prices for each seasonal test case\n",
        "for case in seasonal_test_cases:\n",
        "    purchase_date_dt = datetime.strptime(case['purchase_date'], '%Y-%m-%d')\n",
        "    # Calculate sale date to maintain the same storage duration (152 days)\n",
        "    sale_date_dt = purchase_date_dt + timedelta(days=storage_duration_days)\n",
        "    case['sale_date'] = sale_date_dt.strftime('%Y-%m-%d')\n",
        "\n",
        "    # Fetch purchase price from df based on purchase date\n",
        "    purchase_price_row = df[df['Dates_dt'] == purchase_date_dt]\n",
        "    if not purchase_price_row.empty:\n",
        "        case['purchase_price'] = purchase_price_row['Prices'].iloc[0]\n",
        "    else:\n",
        "        case['purchase_price'] = None # Or handle missing data as needed\n",
        "\n",
        "    # Fetch sale price from df based on sale date by finding the closest date\n",
        "    closest_sale_date_row = df.iloc[(df['Dates_dt'] - sale_date_dt).abs().argsort()[0]]\n",
        "    case['sale_price'] = closest_sale_date_row['Prices']\n",
        "\n",
        "\n",
        "    # Add constant parameters to the test case\n",
        "    case.update(constant_params)\n",
        "\n",
        "# Print the generated seasonal test cases\n",
        "for i, case in enumerate(seasonal_test_cases):\n",
        "    print(f\"--- Seasonal Case {i+1} ---\")\n",
        "    print(f\"Purchase Date: {case['purchase_date']}\")\n",
        "    print(f\"Sale Date: {case['sale_date']}\")\n",
        "    print(f\"Purchase Price: {case['purchase_price']}\")\n",
        "    print(f\"Sale Price: {case['sale_price']}\")\n",
        "    print(f\"Storage Capacity: {case['storage_capacity']} MMBtu\")\n",
        "    print(f\"Monthly Storage Cost: {case['monthly_storage_cost']} $/MMBtu/month\")\n",
        "    print(f\"Injection Cost: {case['injection_cost']} $/MMBtu\")\n",
        "    print(f\"Withdrawal Cost: {case['withdrawal_cost']} $/MMBtu\")\n",
        "    print(f\"Transportation Costs: {case['transportation_costs']} $/MMBtu\")\n",
        "    print(\"-\" * 10)"
      ],
      "execution_count": 44,
      "outputs": [
        {
          "output_type": "stream",
          "name": "stdout",
          "text": [
            "--- Seasonal Case 1 ---\n",
            "Purchase Date: 2021-01-31\n",
            "Sale Date: 2021-07-02\n",
            "Purchase Price: 10.9\n",
            "Sale Price: 10.0\n",
            "Storage Capacity: 1000000 MMBtu\n",
            "Monthly Storage Cost: 0.05 $/MMBtu/month\n",
            "Injection Cost: 0.02 $/MMBtu\n",
            "Withdrawal Cost: 0.03 $/MMBtu\n",
            "Transportation Costs: 0.01 $/MMBtu\n",
            "----------\n",
            "--- Seasonal Case 2 ---\n",
            "Purchase Date: 2021-04-30\n",
            "Sale Date: 2021-09-29\n",
            "Purchase Price: 10.4\n",
            "Sale Price: 10.2\n",
            "Storage Capacity: 1000000 MMBtu\n",
            "Monthly Storage Cost: 0.05 $/MMBtu/month\n",
            "Injection Cost: 0.02 $/MMBtu\n",
            "Withdrawal Cost: 0.03 $/MMBtu\n",
            "Transportation Costs: 0.01 $/MMBtu\n",
            "----------\n",
            "--- Seasonal Case 3 ---\n",
            "Purchase Date: 2021-07-31\n",
            "Sale Date: 2021-12-30\n",
            "Purchase Price: 10.1\n",
            "Sale Price: 11.4\n",
            "Storage Capacity: 1000000 MMBtu\n",
            "Monthly Storage Cost: 0.05 $/MMBtu/month\n",
            "Injection Cost: 0.02 $/MMBtu\n",
            "Withdrawal Cost: 0.03 $/MMBtu\n",
            "Transportation Costs: 0.01 $/MMBtu\n",
            "----------\n",
            "--- Seasonal Case 4 ---\n",
            "Purchase Date: 2021-10-31\n",
            "Sale Date: 2022-04-01\n",
            "Purchase Price: 10.1\n",
            "Sale Price: 11.5\n",
            "Storage Capacity: 1000000 MMBtu\n",
            "Monthly Storage Cost: 0.05 $/MMBtu/month\n",
            "Injection Cost: 0.02 $/MMBtu\n",
            "Withdrawal Cost: 0.03 $/MMBtu\n",
            "Transportation Costs: 0.01 $/MMBtu\n",
            "----------\n",
            "--- Seasonal Case 5 ---\n",
            "Purchase Date: 2022-01-31\n",
            "Sale Date: 2022-07-02\n",
            "Purchase Price: 11.5\n",
            "Sale Price: 10.4\n",
            "Storage Capacity: 1000000 MMBtu\n",
            "Monthly Storage Cost: 0.05 $/MMBtu/month\n",
            "Injection Cost: 0.02 $/MMBtu\n",
            "Withdrawal Cost: 0.03 $/MMBtu\n",
            "Transportation Costs: 0.01 $/MMBtu\n",
            "----------\n"
          ]
        }
      ]
    },
    {
      "cell_type": "markdown",
      "metadata": {
        "id": "18b6674d"
      },
      "source": [
        "## Calculate Contract Values for Seasonal Test Cases"
      ]
    },
    {
      "cell_type": "code",
      "metadata": {
        "colab": {
          "base_uri": "https://localhost:8080/"
        },
        "id": "d0f45a44",
        "outputId": "717c734c-f64a-4f92-ff69-87e0bef245b2"
      },
      "source": [
        "# Calculate contract values for each seasonal test case\n",
        "seasonal_contract_values = []\n",
        "for i, case in enumerate(seasonal_test_cases):\n",
        "    print(f\"--- Calculating for Seasonal Case {i+1} ---\")\n",
        "    contract_value = calculate_contract_value(\n",
        "        case['purchase_date'],\n",
        "        case['sale_date'],\n",
        "        case['purchase_price'],\n",
        "        case['sale_price'],\n",
        "        case['storage_capacity'],\n",
        "        case['monthly_storage_cost'],\n",
        "        case['injection_cost'],\n",
        "        case['withdrawal_cost'],\n",
        "        case['transportation_costs']\n",
        "    )\n",
        "    seasonal_contract_values.append(contract_value)\n",
        "    print(f\"Contract Value: ${contract_value:,.2f}\\n\")"
      ],
      "execution_count": 45,
      "outputs": [
        {
          "output_type": "stream",
          "name": "stdout",
          "text": [
            "--- Calculating for Seasonal Case 1 ---\n",
            "Contract Value: $-1,209,671.48\n",
            "\n",
            "--- Calculating for Seasonal Case 2 ---\n",
            "Contract Value: $-509,671.48\n",
            "\n",
            "--- Calculating for Seasonal Case 3 ---\n",
            "Contract Value: $990,328.52\n",
            "\n",
            "--- Calculating for Seasonal Case 4 ---\n",
            "Contract Value: $1,090,328.52\n",
            "\n",
            "--- Calculating for Seasonal Case 5 ---\n",
            "Contract Value: $-1,409,671.48\n",
            "\n"
          ]
        }
      ]
    },
    {
      "cell_type": "code",
      "source": [],
      "metadata": {
        "id": "gigQNT3DycqM"
      },
      "execution_count": 45,
      "outputs": []
    },
    {
      "cell_type": "code",
      "metadata": {
        "colab": {
          "base_uri": "https://localhost:8080/",
          "height": 378
        },
        "id": "298a980e",
        "outputId": "c4b5cae1-8a1f-4915-e7dd-44ed2532e77c"
      },
      "source": [
        "import matplotlib.pyplot as plt\n",
        "import pandas as pd\n",
        "\n",
        "# Create labels for the x-axis based on seasonal cases including purchase and sale months\n",
        "seasonal_case_labels = []\n",
        "for i, case in enumerate(seasonal_test_cases):\n",
        "    purchase_month = pd.to_datetime(case['purchase_date']).strftime('%b')\n",
        "    sale_month = pd.to_datetime(case['sale_date']).strftime('%b')\n",
        "    seasonal_case_labels.append(f'Case {i+1}: {purchase_month} to {sale_month}')\n",
        "\n",
        "# Create the bar plot for seasonal contract values\n",
        "plt.figure(figsize=(12, 6)) # Increase figure size to accommodate longer labels\n",
        "plt.bar(seasonal_case_labels, seasonal_contract_values, color='skyblue')\n",
        "plt.xlabel('Seasonal Test Case (Purchase Month to Sale Month)')\n",
        "plt.ylabel('Contract Value ($)')\n",
        "plt.title('Contract Value for Each Seasonal Test Case (Storage Duration: 152 days)') # Include storage duration in title\n",
        "plt.grid(axis='y')\n",
        "plt.xticks(rotation=45, ha='right') # Rotate labels for better visibility\n",
        "plt.tight_layout() # Adjust layout to prevent labels from overlapping\n",
        "plt.show()"
      ],
      "execution_count": 46,
      "outputs": [
        {
          "output_type": "display_data",
          "data": {
            "text/plain": [
              "<Figure size 1200x600 with 1 Axes>"
            ],
            "image/png": "[encoded data removed]"
          },
          "metadata": {}
        }
      ]
    },
    {
      "cell_type": "code",
      "source": [],
      "metadata": {
        "id": "FO7GAVph0Ydl"
      },
      "execution_count": 46,
      "outputs": []
    },
    {
      "cell_type": "markdown",
      "metadata": {
        "id": "64d11316"
      },
      "source": [
        "## Summary of Seasonal Analysis Observations\n",
        "\n",
        "Based on the seasonal analysis and the bar plot, here are some key observations:\n",
        "\n",
        "*   **Negative Contract Values:** Several seasonal cases resulted in negative contract values (Case 1: Jan to Jul, Case 2: Apr to Sep, and Case 5: Jan to Jul in the following year). This indicates that for these specific purchase and sale date combinations and with the given constant costs, the revenue generated from the price difference was not enough to cover the total costs (storage, injection/withdrawal, and transportation).\n",
        "*   **Positive Contract Values:** Cases with purchase dates in July (Case 3: Jul to Dec) and October (Case 4: Oct to Apr) resulted in positive and significantly higher contract values. This suggests that storing gas purchased in the summer or fall and selling in the winter or spring, respectively, might be more profitable under these market conditions and cost structures.\n",
        "*   **Impact of Price Difference:** The variation in contract values across seasons highlights the significant impact of the purchase and sale price difference. Seasons where the sale price is considerably higher than the purchase price lead to more favorable contract values.\n",
        "*   **Consistency of Costs:** Since the storage duration and other costs were kept constant, the fluctuations in contract value are primarily driven by the changes in natural gas prices across different seasons in the provided data.\n",
        "\n",
        "In summary, the seasonal analysis demonstrates that the timing of purchasing and selling the commodity based on seasonal price fluctuations plays a crucial role in determining the profitability of a storage contract, even when other costs remain constant."
      ]
    },
    {
      "cell_type": "code",
      "source": [],
      "metadata": {
        "id": "BS-FloAc1A6D"
      },
      "execution_count": 46,
      "outputs": []
    },
    {
      "cell_type": "markdown",
      "source": [],
      "metadata": {
        "id": "-o4tX5eg5779"
      }
    },
    {
      "cell_type": "markdown",
      "metadata": {
        "id": "c0f494a2"
      },
      "source": [
        "# ⚙️ Commodity Storage Contract Pricing Model\n",
        "\n",
        "## 📘 Project Objective\n",
        "The objective of this project was to create a **prototype pricing model** for a commodity storage contract, incorporating key cost components and the commodity's purchase and sale prices to determine the contract value.\n",
        "\n",
        "The project enables **traders and analysts** to estimate the *fair value* of storage contracts under varying market conditions — helping identify **profitable opportunities** and understand **cost impacts**.\n",
        "\n",
        "---\n",
        "\n",
        "## ⚙️ Pricing Model Implementation\n",
        "A **Python-based model** was developed to calculate the fair value of a storage contract.\n",
        "The core function **`calculate_contract_value()`** takes into account the following key input parameters:\n",
        "\n",
        "- **Injection (purchase) date(s)**\n",
        "- **Withdrawal (sale) date(s)**\n",
        "- **Commodity purchase and sale prices**\n",
        "- **Injection/withdrawal rates**\n",
        "- **Storage capacity (MMBtu)**\n",
        "- **Monthly storage cost**\n",
        "- **Injection and withdrawal costs**\n",
        "- **Transportation costs**\n",
        "\n",
        "The model performs the following steps:\n",
        "1. Computes **total costs** (storage, injection/withdrawal, and transportation).\n",
        "2. Calculates **total revenue** = (sale_price − purchase_price) × storage_capacity.\n",
        "3. Derives the **net contract value** = total revenue − total costs.\n",
        "4. Automatically finds the *nearest valid date* in the price dataset when an exact match is missing, ensuring **robust real-world applicability**.\n",
        "\n",
        "---\n",
        "\n",
        "## 🧪 Model Testing\n",
        "\n",
        "### Example Calculation\n",
        "\n",
        "| Parameter            | Value             |\n",
        "|----------------------|-------------------|\n",
        "| **Purchase Date**    | 2023-10-31        |\n",
        "| **Sale Date**        | 2024-03-31        |\n",
        "| **Purchase Price**   | \\$11.80           |\n",
        "| **Sale Price**       | \\$12.70           |\n",
        "| **Storage Capacity** | 1,000,000 MMBtu   |\n",
        "| **Monthly Storage Cost** | \\$0.05/MMBtu/month |\n",
        "| **Injection Cost**   | \\$0.02/MMBtu       |\n",
        "| **Withdrawal Cost**  | \\$0.03/MMBtu       |\n",
        "| **Transportation Cost** | \\$0.01/MMBtu       |\n",
        "\n",
        "✅ **Calculated Contract Value:** `$590,328.52`\n",
        "\n",
        "---\n",
        "\n",
        "### Additional Test Cases\n",
        "\n",
        "The model was tested using multiple parameter combinations to assess its performance under various conditions. The calculated contract values for these cases were:\n",
        "\n",
        "*   **Case 1:** \\$562,697.11\n",
        "*   **Case 2:** \\$125,376.15\n",
        "*   **Case 3:** \\$690,328.52\n",
        "*   **Case 4:** \\$709,975.03\n",
        "*   **Case 5:** \\$590,328.52\n",
        "\n",
        "These results were visualized in a bar plot, demonstrating the model's ability to handle different inputs and the resulting variation in contract values.\n",
        "\n",
        "---\n",
        "\n",
        "## 📊 Seasonal Analysis\n",
        "A seasonal analysis was conducted to examine the impact of different purchase dates (representing seasons) on the contract value, while maintaining a constant storage duration of 152 days and fixed costs. Five seasonal test cases were generated, and purchase and sale prices were fetched from the provided historical data (`df`) based on the dates.\n",
        "\n",
        "The calculated contract values for the seasonal cases were:\n",
        "\n",
        "*   **Seasonal Case 1 (Jan to Jul):** \\$ -1,209,671.48\n",
        "*   **Seasonal Case 2 (Apr to Sep):** \\$ -509,671.48\n",
        "*   **Seasonal Case 3 (Jul to Dec):** \\$ 990,328.52\n",
        "*   **Seasonal Case 4 (Oct to Apr):** \\$ 1,090,328.52\n",
        "*   **Seasonal Case 5 (Jan to Jul):** \\$ -1,409,671.48\n",
        "\n",
        "These seasonal results were also visualized in a bar plot, highlighting the significant fluctuations in contract value based on the timing of the storage period.\n",
        "\n",
        "---\n",
        "\n",
        "## 🔍 Seasonal Analysis Key Findings\n",
        "\n",
        "*   **Negative Contract Values in Certain Seasons:** Storing gas purchased in winter or spring and selling after approximately 5 months resulted in significant negative contract values (e.g., -\\$1,209,671.48 for Jan-Jul 2021 and -\\$1,409,671.48 for Jan-Jul 2022). This indicates that the revenue from the price difference was less than the total costs incurred during these periods.\n",
        "*   **Positive Contract Values in Other Seasons:** Conversely, purchasing in summer or fall and selling after the same duration yielded positive and substantial contract values (e.g., \\$990,328.52 for Jul-Dec 2021 and \\$1,090,328.52 for Oct-Apr 2021-2022). This highlights more favorable price spreads during these periods for this storage duration.\n",
        "*   **Price Differential Dominance:** The analysis reinforces that, with constant storage duration and costs (totaling approximately \\$309,671.48), the profitability of the contract is largely driven by the difference between the purchase and sale prices. A price difference of around \\$1.00/MMBtu (as seen in Case 3 and 4) leads to significant positive contract values, while smaller or negative differences result in losses.\n",
        "\n",
        "---\n",
        "\n",
        "## ✅ Conclusion\n",
        "The developed prototype pricing model is functional and provides a valuable tool for estimating commodity storage contract values. The testing with example (\\$590,328.52) and varied cases, alongside the seasonal analysis revealing contract values ranging from approximately -\\$1.4 million to \\$1.1 million, clearly demonstrate the model's responsiveness to varying inputs and underscore the critical importance of seasonal price trends and the timing of storage in determining contract profitability. Specifically, the significant difference between negative contract values in winter/spring purchase scenarios and positive values in summer/fall purchase scenarios highlights the need for careful consideration of market seasonality when entering into such contracts. This report provides a clear overview of the model, its testing, and the key findings from the seasonal analysis, serving as a basis for further evaluation and potential integration."
      ]
    },
    {
      "cell_type": "markdown",
      "source": [
        "**Rishabh Chandrakar**\n",
        "\n",
        " Data Analytics\n",
        "www.linkedin.com/in/rishabh-chandrakar\n",
        "\n",
        "https://github.com/Rishabh1108ch\n"
      ],
      "metadata": {
        "id": "R4BohIzL7FP4"
      }
    }
  ]
}